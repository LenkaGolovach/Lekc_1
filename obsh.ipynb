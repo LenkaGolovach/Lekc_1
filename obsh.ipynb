{
 "cells": [
  {
   "cell_type": "markdown",
   "id": "97796b3c",
   "metadata": {},
   "source": [
    "Процесс денатурации ДНК представляет разрушение водородных связей между двумя цепями этой молекулы и очень сильно зависит от температуры, с которой мы воздействуем на молекулу.  \n",
    "    \n",
    "При сравнении двух видов между собой в исследовании были получены следующие различия в средней температуре плавления ДНК:"
   ]
  },
  {
   "cell_type": "code",
   "execution_count": 1,
   "id": "64f890ae",
   "metadata": {
    "ExecuteTime": {
     "end_time": "2023-05-05T07:33:04.646564Z",
     "start_time": "2023-05-05T07:33:04.010268Z"
    }
   },
   "outputs": [],
   "source": [
    "from scipy import stats"
   ]
  },
  {
   "cell_type": "markdown",
   "id": "f0026af7",
   "metadata": {},
   "source": [
    "Вид №1"
   ]
  },
  {
   "cell_type": "code",
   "execution_count": 2,
   "id": "1001afe3",
   "metadata": {
    "ExecuteTime": {
     "end_time": "2023-05-05T07:33:07.042842Z",
     "start_time": "2023-05-05T07:33:07.022849Z"
    }
   },
   "outputs": [
    {
     "name": "stdout",
     "output_type": "stream",
     "text": [
      "[ 86.31959982  81.38726773  81.42661142  82.08718749  87.68483027\n",
      " 108.58279591  82.22408716  81.63019685  97.56694741 102.40444955\n",
      "  89.63827477  87.50103622 100.87525692  94.93995176  71.25218841\n",
      " 106.88855913  97.94635166  85.57350538  87.77356367  87.78445888]\n"
     ]
    }
   ],
   "source": [
    "vid1 = stats.norm.rvs(loc = 89.9, scale = 11.3, size = 20)\n",
    "print(vid1)"
   ]
  },
  {
   "cell_type": "markdown",
   "id": "65031c38",
   "metadata": {},
   "source": [
    "Вид №2"
   ]
  },
  {
   "cell_type": "code",
   "execution_count": 3,
   "id": "abc6e427",
   "metadata": {
    "ExecuteTime": {
     "end_time": "2023-05-05T07:33:08.867678Z",
     "start_time": "2023-05-05T07:33:08.851180Z"
    }
   },
   "outputs": [
    {
     "name": "stdout",
     "output_type": "stream",
     "text": [
      "[ 88.47691942  81.35847594  80.39771533  81.92539874  72.8652114\n",
      "  89.28585565  91.78580431  97.51157944  85.5484855   60.0619514\n",
      "  73.61508174  77.31672618  82.28678953  73.28143766  81.14957596\n",
      "  70.01636561  98.74236694 100.6661331   81.3604004   95.51234695]\n"
     ]
    }
   ],
   "source": [
    "vid2 = stats.norm.rvs(loc = 80.7, scale = 11.7, size = 20)\n",
    "print(vid2)"
   ]
  },
  {
   "cell_type": "markdown",
   "id": "de2e51d9",
   "metadata": {},
   "source": [
    "Формулируем нулевую и альтернативную гипотезы:  \n",
    "H0: M(1 вид) = M(2 вид)  \n",
    "Н1: М(1 вид) != М(2 вид)"
   ]
  },
  {
   "cell_type": "markdown",
   "id": "8efdfda9",
   "metadata": {},
   "source": [
    "Рассчитаем t-критерий"
   ]
  },
  {
   "cell_type": "code",
   "execution_count": 4,
   "id": "2d9999a0",
   "metadata": {
    "ExecuteTime": {
     "end_time": "2023-05-05T07:33:12.432443Z",
     "start_time": "2023-05-05T07:33:12.425451Z"
    }
   },
   "outputs": [
    {
     "name": "stdout",
     "output_type": "stream",
     "text": [
      "Ttest_indResult(statistic=2.157831715531867, pvalue=0.03732616680113349)\n"
     ]
    }
   ],
   "source": [
    "print(stats.ttest_ind(vid1, vid2))"
   ]
  },
  {
   "cell_type": "markdown",
   "id": "c54da186",
   "metadata": {},
   "source": [
    "P < 0.05, поэтому можем принять альтернативную гипотезу Н1."
   ]
  },
  {
   "cell_type": "code",
   "execution_count": null,
   "id": "45e06249",
   "metadata": {},
   "outputs": [],
   "source": []
  }
 ],
 "metadata": {
  "kernelspec": {
   "display_name": "Python 3 (ipykernel)",
   "language": "python",
   "name": "python3"
  },
  "language_info": {
   "codemirror_mode": {
    "name": "ipython",
    "version": 3
   },
   "file_extension": ".py",
   "mimetype": "text/x-python",
   "name": "python",
   "nbconvert_exporter": "python",
   "pygments_lexer": "ipython3",
   "version": "3.9.12"
  }
 },
 "nbformat": 4,
 "nbformat_minor": 5
}
